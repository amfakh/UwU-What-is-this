{
  "nbformat": 4,
  "nbformat_minor": 0,
  "metadata": {
    "colab": {
      "name": "Untitled0.ipynb",
      "provenance": [],
      "authorship_tag": "ABX9TyPHJA+m0aRer+g86eI24Ie5",
      "include_colab_link": true
    },
    "kernelspec": {
      "name": "python3",
      "display_name": "Python 3"
    }
  },
  "cells": [
    {
      "cell_type": "markdown",
      "metadata": {
        "id": "view-in-github",
        "colab_type": "text"
      },
      "source": [
        "<a href=\"https://colab.research.google.com/github/amfakh/UwU-What-is-this/blob/master/Linkedin%20Scrape.ipynb\" target=\"_parent\"><img src=\"https://colab.research.google.com/assets/colab-badge.svg\" alt=\"Open In Colab\"/></a>"
      ]
    },
    {
      "cell_type": "code",
      "metadata": {
        "id": "9Ta0QGUq1byw",
        "colab_type": "code",
        "colab": {}
      },
      "source": [
        "import urllib.request\n",
        "import urllib.parse\n",
        "import urllib.error\n",
        "import ssl\n",
        "import os\n",
        "import re\n",
        "import requests\n",
        "\n",
        "from urllib.request import Request, urlopen\n",
        "from bs4 import BeautifulSoup"
      ],
      "execution_count": 1,
      "outputs": []
    },
    {
      "cell_type": "code",
      "metadata": {
        "id": "wFCot89tOVmz",
        "colab_type": "code",
        "colab": {}
      },
      "source": [
        "# For ignoring SSL certificate errors\n",
        "ctx = ssl.create_default_context()\n",
        "ctx.check_hostname = False\n",
        "ctx.verify_mode = ssl.CERT_NONE"
      ],
      "execution_count": 2,
      "outputs": []
    },
    {
      "cell_type": "code",
      "metadata": {
        "id": "hRSZtTXOQ-X2",
        "colab_type": "code",
        "colab": {}
      },
      "source": [
        "def scrape_from_link(url):\n",
        "\n",
        "    req = Request(url, headers = { 'User-Agent' : 'Mozilla/5.0' })\n",
        "    webpage = urlopen(req).read()\n",
        "    soup = BeautifulSoup(webpage, 'html.parser')\n",
        "    html = soup.prettify('utf-8')\n",
        "\n",
        "    for div in soup.findAll('h1', attrs = {'class': 'header_with_cover_art-primary_info-title'}):\n",
        "        song_json[\"Song Title\"].append(div.text.strip());\n",
        "        print(\"    - Scrapped: \" + song_json[\"Song Title\"][-1])\n",
        "\n",
        "    for div in soup.findAll('a', attrs = {'class': 'header_with_cover_art-primary_info-primary_artist'}):\n",
        "        song_json[\"Primary Artist\"].append(div.text.strip());    \n",
        "\n",
        "    for div in soup.findAll('div', attrs = {'class': 'lyrics'}):\n",
        "        song_json[\"Lyrics\"].append(div.text.strip().split(\"\\n\"));\n",
        "\n",
        "    # print(song_json[\"Song Title\"])"
      ],
      "execution_count": null,
      "outputs": []
    }
  ]
}